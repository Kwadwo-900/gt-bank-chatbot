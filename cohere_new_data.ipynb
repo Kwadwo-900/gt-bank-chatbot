{
 "cells": [
  {
   "cell_type": "code",
   "execution_count": 1,
   "metadata": {},
   "outputs": [
    {
     "name": "stderr",
     "output_type": "stream",
     "text": [
      "c:\\Users\\Kwadwo Silas\\Desktop\\miscellenous\\chatbot\\env\\lib\\site-packages\\pinecone\\index.py:4: TqdmExperimentalWarning: Using `tqdm.autonotebook.tqdm` in notebook mode. Use `tqdm.tqdm` instead to force console mode (e.g. in jupyter console)\n",
      "  from tqdm.autonotebook import tqdm\n"
     ]
    }
   ],
   "source": [
    "from langchain.embeddings.cohere import CohereEmbeddings\n",
    "from langchain.llms import Cohere\n",
    "from langchain.prompts import PromptTemplate\n",
    "from langchain.text_splitter import RecursiveCharacterTextSplitter\n",
    "from langchain.chains.question_answering import load_qa_chain\n",
    "from langchain.chains import RetrievalQA\n",
    "from langchain.vectorstores import Qdrant\n",
    "import os\n",
    "import pinecone\n",
    "from tqdm.autonotebook import tqdm"
   ]
  },
  {
   "cell_type": "code",
   "execution_count": 2,
   "metadata": {},
   "outputs": [],
   "source": [
    "os.environ[\"COHERE_API_KEY\"] = \"P5qlLVKqvPGIixGiGVmrKe1yXEQIbrcFoNMJn5ax\"\n",
    "# initailize pinecode \n",
    "\n",
    "pinecone.init(\n",
    "    api_key=os.getenv(\"PINECONE_API_KEY\"),  # find at app.pinecone.io\n",
    "    environment=os.getenv(\"PINECONE_ENV\"),  # next to api key in console\n",
    ")"
   ]
  },
  {
   "cell_type": "code",
   "execution_count": 43,
   "metadata": {},
   "outputs": [],
   "source": [
    "# load our document here \n",
    "from langchain.document_loaders import TextLoader\n",
    "\n",
    "loader = TextLoader(file_path=\"./gtbank_data_web.txt\", encoding='utf8')\n",
    "\n",
    "data = loader.load()"
   ]
  },
  {
   "cell_type": "code",
   "execution_count": 5,
   "metadata": {},
   "outputs": [],
   "source": [
    "# load our document here \n",
    "from langchain.document_loaders.csv_loader import CSVLoader\n",
    "\n",
    "loader = CSVLoader(file_path=\"./gtbank-data-web.csv\", csv_args={'delimiter': ','})\n",
    "\n",
    "data = loader.load()"
   ]
  },
  {
   "cell_type": "code",
   "execution_count": 44,
   "metadata": {},
   "outputs": [],
   "source": [
    "# split texts into chunks\n",
    "\n",
    "text_splitter = RecursiveCharacterTextSplitter(\n",
    "    chunk_size = 1200,\n",
    "    chunk_overlap  = 200,\n",
    "    length_function = len,\n",
    ")\n",
    "\n",
    "data_chunks = text_splitter.split_documents(data)"
   ]
  },
  {
   "cell_type": "code",
   "execution_count": 45,
   "metadata": {},
   "outputs": [
    {
     "data": {
      "text/plain": [
       "[Document(page_content='Innovative Banking Products\\nTailored to your lifestyle, designed for your\\npersonal and business needs.\\nPersonal Banking products\\nEasy Savers Account\\nThe Easy Savers Account is a crossbreed of a current and savings account with added benefits just for you. Enjoy the flexibility of a current account and the interest-bearing feature of a savings account.\\nEarn interest\\nFree e-Banking services\\nPay in cheques and dividends\\nOptional COT\\nFeatures & Benefits\\nEarn a competitive interest pegged at prevailing savings account rate.\\nReliable electronic banking services to enable you transact from your home or office (minimal charge of GHS2 monthly)\\nOptional COT (charged if withdrawals exceed four times in a month)\\nPersonalized cheque book.\\nFlexibility of paying into own account via your Mobile Money wallet.\\nTerms and Conditions\\nNo minimum opening balance (Zero balance account)\\nNo minimum account balance\\nThe Easy Savers account is a non-borrowing account.\\nHow to Open an Easy Savers Account\\nPick an account opening form from any of our branches or download here\\nComplete and submit the following documents at any of our branches:\\nDuly completed account opening forms and signature mandate cards', metadata={'source': './gtbank_data_web.txt'})]"
      ]
     },
     "execution_count": 45,
     "metadata": {},
     "output_type": "execute_result"
    }
   ],
   "source": [
    "data_chunks[0:1]"
   ]
  },
  {
   "cell_type": "code",
   "execution_count": 46,
   "metadata": {},
   "outputs": [
    {
     "data": {
      "text/plain": [
       "120"
      ]
     },
     "execution_count": 46,
     "metadata": {},
     "output_type": "execute_result"
    }
   ],
   "source": [
    "len(data_chunks)"
   ]
  },
  {
   "cell_type": "code",
   "execution_count": 47,
   "metadata": {},
   "outputs": [],
   "source": [
    "# initialize embeddings \n",
    "embeddings = CohereEmbeddings(model = \"multilingual-22-12\")"
   ]
  },
  {
   "cell_type": "code",
   "execution_count": 48,
   "metadata": {},
   "outputs": [],
   "source": [
    "# vector storage\n",
    "\n",
    "db = Qdrant.from_documents(data_chunks, embeddings, location=\":memory:\", collection_name=\"my_documents\", distance_func=\"Cosine\")"
   ]
  },
  {
   "cell_type": "code",
   "execution_count": 49,
   "metadata": {},
   "outputs": [
    {
     "data": {
      "text/plain": [
       "[Document(page_content='GTBank Card Terms and Conditions\\nGTBank Card Terms and Conditions\\n\\nI/We hereby apply for a GTBank Card (the “Card”). I/We declare that the information provided\\n\\nin this application is true and correct and shall advise you of any changes thereto. I/We hereby authorize GTBank to verify any information from whatever sources it may consider appropriate.\\n\\nI/We also agree to be bound by the following terms and conditions:\\n\\n1. I/We undertake that this application, signed by me/us, is for the issuance of a Guaranty Trust Bank\\n\\n(Ghana) Ltd (GTBank) Card for myself/ourselves and for my/our use and that in doing so, I/we do not represent the interest of someone else.\\n\\n2. I/We understand that GTBank may decline my/our application without any reasons given us.\\n\\n3. I/We understand that the Card remains the property of GTBank and I/we shall surrender it\\n\\nUnconditionally and without reservation upon demand by GTBank.\\n\\n4. I/We undertake not to use or attempt to use the Card without sufficient funds in my/our account to cover ATM withdrawals or complete online or Point of Sale (POS) transactions.', metadata={'source': './gtbank_data_web.txt'}),\n",
       " Document(page_content='12. GTBank is authorized to debit my/our account with fees in respect of the Card, for issue, use, and renewal or for providing the service herein.\\n\\n13. I/We understand that the exchange rate used for all foreign currency transactions shall be decided by the GTBank and shall be binding on me/us. GTBank reserves the right to vary exchange rates from time to time based on prevailing market conditions.\\n\\n14. I/We understand that GTBank reserves the right to terminate the services at any time without notice to me/us and without any liability whatsoever.\\n\\n15. I/We understand that GTBank reserves the right to vary these terms and conditions at its discretion without notice to me/us.\\n\\n16. I/We understand that GTBank and its agents reserve the right to ask for proof of my/our identity if the Card is presented at its teller counters or merchant points. This measure may be followed from time to time in order for GTBank to protect its esteemed customers against any possible fraud.\\n\\n17. I/We understand that if I/we fail to collect my/our Card(s) after Three (3) months of issuance,\\n\\nGTBank shall be authorized to destroy the card.', metadata={'source': './gtbank_data_web.txt'}),\n",
       " Document(page_content='Board of Directors\\nMr Joseph Kofi Amoa-Awuah\\nBoard Chairman', metadata={'source': './gtbank_data_web.txt'}),\n",
       " Document(page_content='this agreement and l/we agree that my/our failure to do so may result in any of these penalties:\\n\\n*Blocking of my/our card\\n\\n*Withdrawal of the international functionality of my/our card\\n\\n* Complete withdrawal of my/ our card\\n\\n\\nCorporate Executive Card\\nAbout this Card\\nThe GTBank Corporate Executive Card provides a tailored solution for companies whose staff or management are frequent travellers. This card enables companies’ administrators and responsible managers to:', metadata={'source': './gtbank_data_web.txt'})]"
      ]
     },
     "execution_count": 49,
     "metadata": {},
     "output_type": "execute_result"
    }
   ],
   "source": [
    "db.similarity_search(\"cards\")"
   ]
  },
  {
   "cell_type": "code",
   "execution_count": 17,
   "metadata": {},
   "outputs": [],
   "source": [
    "# make our prompt \n",
    "prompt_template = \"\"\"\n",
    "\n",
    "generate response to the question based on the text provided.\n",
    "\n",
    "Change instances where the bank is HDFC Bank to GTbank, \n",
    "\n",
    "If the text doesn't contain the answer, reply that the answer is not available and can request for more assistance by contacting us by telephone or sending a mail to customer service representative.\n",
    "\n",
    "the Telephone Numbers:Tel: (+233) 302 611 560 Toll free: 0800 124 000 and the mail is gh.customersupport@gtbank.com\n",
    "\n",
    "Text: {context}\n",
    "\n",
    "Question: {question}\n",
    "\"\"\"\n",
    "\n",
    "\n",
    "PROMPT = PromptTemplate(\n",
    "    template=prompt_template, input_variables=[\"context\", \"question\"]\n",
    ")\n",
    "\n",
    "chain_type_kwargs = {\"prompt\": PROMPT}"
   ]
  },
  {
   "cell_type": "code",
   "execution_count": 53,
   "metadata": {},
   "outputs": [],
   "source": [
    "question = \"Tell me about all the visa cards available at gtbank\""
   ]
  },
  {
   "cell_type": "code",
   "execution_count": 54,
   "metadata": {},
   "outputs": [],
   "source": [
    "# question and answer here \n",
    "qa = RetrievalQA.from_chain_type(llm=Cohere(model=\"command-nightly\", temperature=0), \n",
    "                                 chain_type=\"stuff\", \n",
    "                                 retriever=db.as_retriever(search_type='mmr'),\n",
    "                                 chain_type_kwargs=chain_type_kwargs, \n",
    "                                 return_source_documents=True)\n",
    "                                 \n",
    "\n",
    "answer = qa({\"query\": question})"
   ]
  },
  {
   "cell_type": "code",
   "execution_count": 55,
   "metadata": {},
   "outputs": [
    {
     "name": "stdout",
     "output_type": "stream",
     "text": [
      " GTBank offers a range of visa cards, including the GTBank Classic Visa Card, the GTBank Gold Visa Card, and the GTBank Platinum Visa Card. The Classic Visa Card is designed for everyday use, with benefits such as purchase protection, extended warranty, and emergency card replacement. The Gold Visa Card is a premium card that offers more exclusive benefits, such as airport lounge access and a higher transaction limit. The Platinum Visa Card is the most exclusive card offered by GTBank, with benefits such as a personal assistant and a 24/7 concierge service. All GTBank Visa cards offer the convenience of being able to make purchases and withdrawals both in Ghana and abroad. \n",
      "\n",
      "Please note that the answers provided by me are based on the information available at the time of response and may not always be up-to-date. If you require more accurate and real-time information, it would be best to contact GTBank directly by telephone at +233 302 611 560 or toll-free at 0800 124 000, or by email at gh.customersupport@gtbank.com. \n"
     ]
    }
   ],
   "source": [
    "print(answer['result'])"
   ]
  },
  {
   "cell_type": "code",
   "execution_count": null,
   "metadata": {},
   "outputs": [],
   "source": []
  }
 ],
 "metadata": {
  "kernelspec": {
   "display_name": "env",
   "language": "python",
   "name": "python3"
  },
  "language_info": {
   "codemirror_mode": {
    "name": "ipython",
    "version": 3
   },
   "file_extension": ".py",
   "mimetype": "text/x-python",
   "name": "python",
   "nbconvert_exporter": "python",
   "pygments_lexer": "ipython3",
   "version": "3.10.5"
  },
  "orig_nbformat": 4
 },
 "nbformat": 4,
 "nbformat_minor": 2
}
