{
 "cells": [
  {
   "cell_type": "code",
   "execution_count": 4,
   "metadata": {},
   "outputs": [],
   "source": [
    "from langchain.embeddings.cohere import CohereEmbeddings\n",
    "from langchain.llms import Cohere\n",
    "from langchain.prompts import PromptTemplate\n",
    "from langchain.text_splitter import RecursiveCharacterTextSplitter\n",
    "from langchain.chains.question_answering import load_qa_chain\n",
    "from langchain.chains import RetrievalQA\n",
    "from langchain.vectorstores import Qdrant\n",
    "import os\n",
    "import pinecone\n",
    "from tqdm.autonotebook import tqdm"
   ]
  },
  {
   "cell_type": "code",
   "execution_count": 2,
   "metadata": {},
   "outputs": [],
   "source": [
    "\n",
    "os.environ[\"COHERE_API_KEY\"] = \"hv5YTaV6oUo5T9LGOY8F4bBtalGflhTU2FdPtEk3\"\n",
    "# initailize pinecode \n",
    "\n",
    "pinecone.init(\n",
    "    api_key=os.getenv(\"PINECONE_API_KEY\"),  # find at app.pinecone.io\n",
    "    environment=os.getenv(\"PINECONE_ENV\"),  # next to api key in console\n",
    ")"
   ]
  },
  {
   "cell_type": "code",
   "execution_count": 5,
   "metadata": {},
   "outputs": [],
   "source": [
    "# load our document here \n",
    "from langchain.document_loaders.csv_loader import CSVLoader\n",
    "\n",
    "loader = CSVLoader(file_path=\"./BankFAQs.csv\", encoding='utf8')\n",
    "\n",
    "data = loader.load()"
   ]
  },
  {
   "cell_type": "code",
   "execution_count": 6,
   "metadata": {},
   "outputs": [],
   "source": [
    "# split texts into chunks\n",
    "\n",
    "text_splitter = RecursiveCharacterTextSplitter(\n",
    "    chunk_size = 1200,\n",
    "    chunk_overlap  = 200,\n",
    "    length_function = len,\n",
    ")\n",
    "\n",
    "data_chunks = text_splitter.split_documents(data)"
   ]
  },
  {
   "cell_type": "code",
   "execution_count": 7,
   "metadata": {},
   "outputs": [],
   "source": [
    "# initialize embeddings \n",
    "embeddings = CohereEmbeddings(model = \"multilingual-22-12\")"
   ]
  },
  {
   "cell_type": "code",
   "execution_count": 9,
   "metadata": {},
   "outputs": [],
   "source": [
    "# vector storage\n",
    "\n",
    "db = Qdrant.from_documents(data_chunks, embeddings, location=\":memory:\", collection_name=\"my_documents\", distance_func=\"Cosine\")"
   ]
  },
  {
   "cell_type": "code",
   "execution_count": 37,
   "metadata": {},
   "outputs": [],
   "source": [
    "# index_name = \"faqs-dbase\"\n",
    "\n",
    "# docsearch = Pinecone.from_documents(data_chunks, embeddings, index_name=index_name)"
   ]
  },
  {
   "cell_type": "code",
   "execution_count": 40,
   "metadata": {},
   "outputs": [],
   "source": [
    "# make our prompt \n",
    "prompt_template = \"\"\"\n",
    "\n",
    "generate response to the question based on the text provided.\n",
    "\n",
    "Change instances where the bank is HDFC Bank to GTbank, \n",
    "\n",
    "If the text doesn't contain the answer, reply that the answer is not available and can request for more assistance by dialing the hotline or sending a mail to customer service represntative.\n",
    "\n",
    "the hotline is 0300104523 and the mail is customer@gtbank.com.gh\n",
    "\n",
    "Text: {context}\n",
    "\n",
    "Question: {question}\n",
    "\"\"\"\n",
    "\n",
    "\n",
    "PROMPT = PromptTemplate(\n",
    "    template=prompt_template, input_variables=[\"context\", \"question\"]\n",
    ")\n",
    "\n",
    "chain_type_kwargs = {\"prompt\": PROMPT}"
   ]
  },
  {
   "cell_type": "code",
   "execution_count": 36,
   "metadata": {},
   "outputs": [],
   "source": [
    "question = \"how do i create a bank account\""
   ]
  },
  {
   "cell_type": "code",
   "execution_count": 41,
   "metadata": {},
   "outputs": [],
   "source": [
    "# question and answer here \n",
    "qa = RetrievalQA.from_chain_type(llm=Cohere(model=\"command-nightly\", temperature=0), \n",
    "                                 chain_type=\"stuff\", \n",
    "                                 retriever=db.as_retriever(), \n",
    "                                 chain_type_kwargs=chain_type_kwargs, \n",
    "                                 return_source_documents=True)\n",
    "                                 \n",
    "\n",
    "answer = qa({\"query\": question})"
   ]
  },
  {
   "cell_type": "code",
   "execution_count": 42,
   "metadata": {},
   "outputs": [
    {
     "name": "stdout",
     "output_type": "stream",
     "text": [
      " To apply for a Super Saver Account with GTbank, you will need to visit a local branch with the following documents:\n",
      "\n",
      "- A valid form of identification (ID)\n",
      "- A recent utility bill or other proof of address\n",
      "- Your Social Security number (SSN)\n",
      "\n",
      "Once you have gathered the necessary documents, you can fill out an application form and submit it to a GTbank representative. They will help you through the process and answer any questions you may have.\n",
      "\n",
      "If you have any further questions or need assistance with the application process, you can contact GTbank customer service by dialing 0300104523 or sending an email to customer@gtbank.com.gh.\n"
     ]
    }
   ],
   "source": [
    "print(answer['result'])\n"
   ]
  },
  {
   "cell_type": "code",
   "execution_count": 32,
   "metadata": {},
   "outputs": [],
   "source": [
    "def question_and_answer(question):\n",
    "    qa = RetrievalQA.from_chain_type(llm=Cohere(model=\"command-nightly\", temperature=0), \n",
    "                                 chain_type=\"stuff\", \n",
    "                                 retriever=db.as_retriever(), \n",
    "                                 chain_type_kwargs=chain_type_kwargs, \n",
    "                                 return_source_documents=True)\n",
    "                                 \n",
    "\n",
    "    results = qa({\"query\": question})\n",
    "\n",
    "    answer = results['result']\n",
    "\n",
    "    return answer"
   ]
  },
  {
   "cell_type": "code",
   "execution_count": 43,
   "metadata": {},
   "outputs": [
    {
     "name": "stdout",
     "output_type": "stream",
     "text": [
      " To request for a visa card with GTbank, you can visit the nearest GTbank branch with the required documents. You can also contact the customer service hotline or send an email to customer@gtbank.com.gh for more information. Please note that the requirements may vary based on your individual circumstances, so it's best to contact the bank directly to ensure you have the most up-to-date information.\n"
     ]
    }
   ],
   "source": [
    "print(question_and_answer(\"How do  I request for visa card\"))"
   ]
  },
  {
   "cell_type": "code",
   "execution_count": null,
   "metadata": {},
   "outputs": [],
   "source": []
  }
 ],
 "metadata": {
  "kernelspec": {
   "display_name": "env",
   "language": "python",
   "name": "python3"
  },
  "language_info": {
   "codemirror_mode": {
    "name": "ipython",
    "version": 3
   },
   "file_extension": ".py",
   "mimetype": "text/x-python",
   "name": "python",
   "nbconvert_exporter": "python",
   "pygments_lexer": "ipython3",
   "version": "3.10.5"
  },
  "orig_nbformat": 4
 },
 "nbformat": 4,
 "nbformat_minor": 2
}
