{
 "cells": [
  {
   "cell_type": "code",
   "execution_count": 2,
   "metadata": {},
   "outputs": [],
   "source": [
    "from langchain.embeddings.cohere import CohereEmbeddings\n",
    "from langchain.llms import Cohere\n",
    "from langchain.prompts import PromptTemplate\n",
    "from langchain.text_splitter import RecursiveCharacterTextSplitter\n",
    "from langchain.chains.question_answering import load_qa_chain\n",
    "from langchain.chains import RetrievalQA\n",
    "from langchain.vectorstores import Pinecone\n",
    "from langchain.vectorstores import Qdrant\n",
    "import os\n",
    "import pinecone\n",
    "from tqdm.autonotebook import tqdm"
   ]
  },
  {
   "cell_type": "code",
   "execution_count": 8,
   "metadata": {},
   "outputs": [],
   "source": [
    "\n",
    "os.environ[\"COHERE_API_KEY\"] = \"hv5YTaV6oUo5T9LGOY8F4bBtalGflhTU2FdPtEk3\"\n",
    "# initailize pinecode \n",
    "\n",
    "pinecone.init(\n",
    "    api_key=os.getenv(\"PINECONE_API_KEY\"),  # find at app.pinecone.io\n",
    "    environment=os.getenv(\"PINECONE_ENV\"),  # next to api key in console\n",
    ")"
   ]
  },
  {
   "cell_type": "code",
   "execution_count": 4,
   "metadata": {},
   "outputs": [],
   "source": [
    "# load our document here \n",
    "from langchain.document_loaders.csv_loader import CSVLoader\n",
    "\n",
    "loader = CSVLoader(file_path=\"./BankFAQs.csv\", encoding='utf8')\n",
    "\n",
    "data = loader.load()"
   ]
  },
  {
   "cell_type": "code",
   "execution_count": 34,
   "metadata": {},
   "outputs": [],
   "source": [
    "# split texts into chunks\n",
    "\n",
    "text_splitter = RecursiveCharacterTextSplitter(\n",
    "    chunk_size = 1200,\n",
    "    chunk_overlap  = 200,\n",
    "    length_function = len,\n",
    ")\n",
    "\n",
    "data_chunks = text_splitter.split_documents(data)"
   ]
  },
  {
   "cell_type": "code",
   "execution_count": 9,
   "metadata": {},
   "outputs": [],
   "source": [
    "# initialize embeddings \n",
    "embeddings = CohereEmbeddings(model = \"multilingual-22-12\")\n"
   ]
  },
  {
   "cell_type": "code",
   "execution_count": 11,
   "metadata": {},
   "outputs": [],
   "source": [
    "# vector storage\n",
    "\n",
    "db = Qdrant.from_documents(data_chunks, embeddings, location=\":memory:\", collection_name=\"my_documents\", distance_func=\"Dot\")"
   ]
  },
  {
   "cell_type": "code",
   "execution_count": 37,
   "metadata": {},
   "outputs": [],
   "source": [
    "# index_name = \"faqs-dbase\"\n",
    "\n",
    "# docsearch = Pinecone.from_documents(data_chunks, embeddings, index_name=index_name)"
   ]
  },
  {
   "cell_type": "code",
   "execution_count": 28,
   "metadata": {},
   "outputs": [],
   "source": [
    "# make our prompt \n",
    "prompt_template = \"\"\"Text: {context}\n",
    "\n",
    "Question: {question}\n",
    "\n",
    "Answer the question based on the text provided.Change instances where the bank is HDFC Bank to GTbank If the text doesn't contain the answer, reply that the answer is not available.\"\"\"\n",
    "\n",
    "\n",
    "PROMPT = PromptTemplate(\n",
    "    template=prompt_template, input_variables=[\"context\", \"question\"]\n",
    ")\n",
    "\n",
    "chain_type_kwargs = {\"prompt\": PROMPT}"
   ]
  },
  {
   "cell_type": "code",
   "execution_count": 29,
   "metadata": {},
   "outputs": [],
   "source": [
    "question = \"What do i do when I lost my credit card?\""
   ]
  },
  {
   "cell_type": "code",
   "execution_count": 30,
   "metadata": {},
   "outputs": [],
   "source": [
    "# question and answer here \n",
    "qa = RetrievalQA.from_chain_type(llm=Cohere(model=\"command-nightly\", temperature=0), \n",
    "                                 chain_type=\"stuff\", \n",
    "                                 retriever=db.as_retriever(), \n",
    "                                 chain_type_kwargs=chain_type_kwargs, \n",
    "                                 return_source_documents=True)\n",
    "                                 \n",
    "\n",
    "answer = qa({\"query\": question})"
   ]
  },
  {
   "cell_type": "code",
   "execution_count": 31,
   "metadata": {},
   "outputs": [
    {
     "data": {
      "text/plain": [
       "' If you lose your GTbank credit card, you should call GTbank PhoneBanking immediately to report the loss of your card. This facility is available 24 hrs on all days. The card can also be hotlisted using our Prepaid card NetBanking facility on www.gtbank.com'"
      ]
     },
     "execution_count": 31,
     "metadata": {},
     "output_type": "execute_result"
    }
   ],
   "source": [
    "answer['result']"
   ]
  },
  {
   "cell_type": "code",
   "execution_count": 32,
   "metadata": {},
   "outputs": [],
   "source": [
    "def question_and_answer(question):\n",
    "    qa = RetrievalQA.from_chain_type(llm=Cohere(model=\"command-nightly\", temperature=0), \n",
    "                                 chain_type=\"stuff\", \n",
    "                                 retriever=db.as_retriever(), \n",
    "                                 chain_type_kwargs=chain_type_kwargs, \n",
    "                                 return_source_documents=True)\n",
    "                                 \n",
    "\n",
    "    results = qa({\"query\": question})\n",
    "\n",
    "    answer = results['result']\n",
    "\n",
    "    return answer"
   ]
  },
  {
   "cell_type": "code",
   "execution_count": 24,
   "metadata": {},
   "outputs": [
    {
     "name": "stdout",
     "output_type": "stream",
     "text": [
      " Answer: You can get Fixed Deposit advice from on the Fixed Deposit summary page on NetBanking. In case your e-mail id is not updated with the bank, you are requested to contact the nearest branch and update your e-mail ID. In case you wish to have a physical advice, you may walk into the nearest HDFC bank branch. A copy of the e-mail advice may be submitted to the branch in case of premature liquidation of the deposit. The e-mail advice copy is as acceptable at our branches as the physical advice.\n"
     ]
    }
   ],
   "source": [
    "question_and_answer(\"I want to seek for financial advice\")"
   ]
  },
  {
   "cell_type": "code",
   "execution_count": null,
   "metadata": {},
   "outputs": [],
   "source": []
  }
 ],
 "metadata": {
  "kernelspec": {
   "display_name": "env",
   "language": "python",
   "name": "python3"
  },
  "language_info": {
   "codemirror_mode": {
    "name": "ipython",
    "version": 3
   },
   "file_extension": ".py",
   "mimetype": "text/x-python",
   "name": "python",
   "nbconvert_exporter": "python",
   "pygments_lexer": "ipython3",
   "version": "3.10.5"
  },
  "orig_nbformat": 4
 },
 "nbformat": 4,
 "nbformat_minor": 2
}
