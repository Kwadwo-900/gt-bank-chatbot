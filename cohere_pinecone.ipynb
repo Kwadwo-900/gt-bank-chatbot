{
 "cells": [
  {
   "cell_type": "code",
   "execution_count": 4,
   "metadata": {},
   "outputs": [],
   "source": [
    "from langchain.embeddings.cohere import CohereEmbeddings\n",
    "from langchain.llms import Cohere\n",
    "from langchain.prompts import PromptTemplate\n",
    "from langchain.text_splitter import RecursiveCharacterTextSplitter\n",
    "from langchain.chains.question_answering import load_qa_chain\n",
    "from langchain.chains import RetrievalQA\n",
    "from langchain.vectorstores import Qdrant\n",
    "import os\n",
    "import pinecone\n",
    "from tqdm.autonotebook import tqdm"
   ]
  },
  {
   "cell_type": "code",
   "execution_count": 2,
   "metadata": {},
   "outputs": [],
   "source": [
    "\n",
    "os.environ[\"COHERE_API_KEY\"] = \"hv5YTaV6oUo5T9LGOY8F4bBtalGflhTU2FdPtEk3\"\n",
    "# initailize pinecode \n",
    "\n",
    "pinecone.init(\n",
    "    api_key=os.getenv(\"PINECONE_API_KEY\"),  # find at app.pinecone.io\n",
    "    environment=os.getenv(\"PINECONE_ENV\"),  # next to api key in console\n",
    ")"
   ]
  },
  {
   "cell_type": "code",
   "execution_count": 68,
   "metadata": {},
   "outputs": [],
   "source": [
    "# load our document here \n",
    "from langchain.document_loaders.csv_loader import CSVLoader\n",
    "\n",
    "loader = CSVLoader(file_path=\"./BankFAQs.csv\", encoding='utf8')\n",
    "\n",
    "data = loader.load()"
   ]
  },
  {
   "cell_type": "code",
   "execution_count": 69,
   "metadata": {},
   "outputs": [
    {
     "data": {
      "text/plain": [
       "[Document(page_content='Do I need to enter ‘#’ after keying in my Card number/ Card expiry date/ CVV number: What details are required when I want to perform a secure IVR transaction\\nPlease listen to the recorded message and follow the instructions while entering your card details.: To perform a secure IVR transaction, you will need your 16-digit Card number, Card expiry date, CVV number, mobile number and IVR password.\\nsecurity: security', metadata={'source': './BankFAQs.csv', 'row': 0}),\n",
       " Document(page_content='Do I need to enter ‘#’ after keying in my Card number/ Card expiry date/ CVV number: How should I get the IVR Password  if I hold an add-on card\\nPlease listen to the recorded message and follow the instructions while entering your card details.: An IVR password can be requested only from the registered mobile number and will be sent to the registered mobile number / email ID of the primary card holder only.\\nsecurity: security', metadata={'source': './BankFAQs.csv', 'row': 1})]"
      ]
     },
     "execution_count": 69,
     "metadata": {},
     "output_type": "execute_result"
    }
   ],
   "source": [
    "data[:2]"
   ]
  },
  {
   "cell_type": "code",
   "execution_count": 87,
   "metadata": {},
   "outputs": [],
   "source": [
    "# split texts into chunks\n",
    "\n",
    "text_splitter = RecursiveCharacterTextSplitter(\n",
    "    chunk_size = 1200,\n",
    "    chunk_overlap  = 200,\n",
    "    length_function = len,\n",
    ")\n",
    "\n",
    "data_chunks = text_splitter.split_documents(data)"
   ]
  },
  {
   "cell_type": "code",
   "execution_count": 88,
   "metadata": {},
   "outputs": [
    {
     "data": {
      "text/plain": [
       "[Document(page_content='Do I need to enter ‘#’ after keying in my Card number/ Card expiry date/ CVV number: What details are required when I want to perform a secure IVR transaction\\nPlease listen to the recorded message and follow the instructions while entering your card details.: To perform a secure IVR transaction, you will need your 16-digit Card number, Card expiry date, CVV number, mobile number and IVR password.\\nsecurity: security', metadata={'source': './BankFAQs.csv', 'row': 0}),\n",
       " Document(page_content='Do I need to enter ‘#’ after keying in my Card number/ Card expiry date/ CVV number: How should I get the IVR Password  if I hold an add-on card\\nPlease listen to the recorded message and follow the instructions while entering your card details.: An IVR password can be requested only from the registered mobile number and will be sent to the registered mobile number / email ID of the primary card holder only.\\nsecurity: security', metadata={'source': './BankFAQs.csv', 'row': 1}),\n",
       " Document(page_content='Do I need to enter ‘#’ after keying in my Card number/ Card expiry date/ CVV number: How do I register my Mobile number for IVR Password\\nPlease listen to the recorded message and follow the instructions while entering your card details.: Please call our Customer Service Centre and ensure that your mobile number is updated in our records.\\nsecurity: security', metadata={'source': './BankFAQs.csv', 'row': 2})]"
      ]
     },
     "execution_count": 88,
     "metadata": {},
     "output_type": "execute_result"
    }
   ],
   "source": [
    "data_chunks[:3]"
   ]
  },
  {
   "cell_type": "code",
   "execution_count": 72,
   "metadata": {},
   "outputs": [],
   "source": [
    "# initialize embeddings \n",
    "embeddings = CohereEmbeddings(model = \"multilingual-22-12\")"
   ]
  },
  {
   "cell_type": "code",
   "execution_count": 73,
   "metadata": {},
   "outputs": [],
   "source": [
    "# vector storage\n",
    "\n",
    "db = Qdrant.from_documents(data_chunks, embeddings, location=\":memory:\", collection_name=\"my_documents\", distance_func=\"Cosine\")"
   ]
  },
  {
   "cell_type": "code",
   "execution_count": 37,
   "metadata": {},
   "outputs": [],
   "source": [
    "# index_name = \"faqs-dbase\"\n",
    "\n",
    "# docsearch = Pinecone.from_documents(data_chunks, embeddings, index_name=index_name)"
   ]
  },
  {
   "cell_type": "code",
   "execution_count": 74,
   "metadata": {},
   "outputs": [],
   "source": [
    "# make our prompt \n",
    "prompt_template = \"\"\"\n",
    "\n",
    "generate response to the question based on the text provided.\n",
    "\n",
    "Change instances where the bank is HDFC Bank to GTbank, \n",
    "\n",
    "If the text doesn't contain the answer, reply that the answer is not available and can request for more assistance by dialing the hotline or sending a mail to customer service represntative.\n",
    "\n",
    "the hotline is 0300104523 and the mail is customer@gtbank.com.gh\n",
    "\n",
    "Text: {context}\n",
    "\n",
    "Question: {question}\n",
    "\"\"\"\n",
    "\n",
    "\n",
    "PROMPT = PromptTemplate(\n",
    "    template=prompt_template, input_variables=[\"context\", \"question\"]\n",
    ")\n",
    "\n",
    "chain_type_kwargs = {\"prompt\": PROMPT}"
   ]
  },
  {
   "cell_type": "code",
   "execution_count": 75,
   "metadata": {},
   "outputs": [],
   "source": [
    "question = \"how do i create a bank account\""
   ]
  },
  {
   "cell_type": "code",
   "execution_count": 83,
   "metadata": {},
   "outputs": [],
   "source": [
    "# question and answer here \n",
    "qa = RetrievalQA.from_chain_type(llm=Cohere(model=\"command-nightly\", temperature=0), \n",
    "                                 chain_type=\"stuff\", \n",
    "                                 retriever=db.as_retriever(search_type=\"mmr\"),\n",
    "                                                            \n",
    "                                 chain_type_kwargs=chain_type_kwargs, \n",
    "                                 return_source_documents=True)\n",
    "                                 \n",
    "\n",
    "answer = qa({\"query\": question})"
   ]
  },
  {
   "cell_type": "code",
   "execution_count": 84,
   "metadata": {},
   "outputs": [
    {
     "name": "stdout",
     "output_type": "stream",
     "text": [
      " To create a bank account with GTbank, you will need to follow these steps:\n",
      "\n",
      "1. Visit your nearest GTbank branch with the required documents, including proof of identity, proof of address, and a passport photo.\n",
      "\n",
      "2. Fill out an application form with your personal information and choose the type of account you want to open.\n",
      "\n",
      "3. Fund your account with the required minimum deposit.\n",
      "\n",
      "4. Once your account has been created, you will be given a unique account number and a debit card.\n",
      "\n",
      "It's important to note that you will need to keep your account active by performing at least one credit or debit transaction within a year to avoid any fees or penalties.\n",
      "\n",
      "If you have any further questions or need more assistance, please feel free to contact our customer service team at 0300104523 or customer@gtbank.com.gh.\n"
     ]
    }
   ],
   "source": [
    "print(answer['result'])\n"
   ]
  },
  {
   "cell_type": "code",
   "execution_count": 78,
   "metadata": {},
   "outputs": [],
   "source": [
    "def question_and_answer(question):\n",
    "    qa = RetrievalQA.from_chain_type(llm=Cohere(model=\"command-nightly\", temperature=0), \n",
    "                                 chain_type=\"stuff\", \n",
    "                                 retriever=db.as_retriever(search_type = \"mmr\"), \n",
    "                                 chain_type_kwargs=chain_type_kwargs, \n",
    "                                 return_source_documents=True)\n",
    "                                 \n",
    "\n",
    "    results = qa({\"query\": question})\n",
    "\n",
    "    answer = results['result']\n",
    "\n",
    "    return answer"
   ]
  },
  {
   "cell_type": "code",
   "execution_count": 80,
   "metadata": {},
   "outputs": [
    {
     "name": "stdout",
     "output_type": "stream",
     "text": [
      " To create a bank account with GTbank, you will need to follow these steps:\n",
      "\n",
      "1. Visit your nearest GTbank branch with the required documents, including proof of identity, proof of address, and a passport photo.\n",
      "\n",
      "2. Fill out an application form with your personal information and choose the type of account you want to open.\n",
      "\n",
      "3. Fund your account with the required minimum deposit.\n",
      "\n",
      "4. Once your account has been created, you will be given a unique account number and a debit card.\n",
      "\n",
      "It's important to note that you will need to keep your account active by performing at least one credit or debit transaction within a year to avoid any fees or penalties.\n",
      "\n",
      "If you have any further questions or need more assistance, please feel free to contact our customer service team at 0300104523 or customer@gtbank.com.gh.\n"
     ]
    }
   ],
   "source": [
    "print(question_and_answer(\"how do i create a bank account\"))"
   ]
  },
  {
   "cell_type": "code",
   "execution_count": null,
   "metadata": {},
   "outputs": [],
   "source": []
  }
 ],
 "metadata": {
  "kernelspec": {
   "display_name": "env",
   "language": "python",
   "name": "python3"
  },
  "language_info": {
   "codemirror_mode": {
    "name": "ipython",
    "version": 3
   },
   "file_extension": ".py",
   "mimetype": "text/x-python",
   "name": "python",
   "nbconvert_exporter": "python",
   "pygments_lexer": "ipython3",
   "version": "3.10.5"
  },
  "orig_nbformat": 4
 },
 "nbformat": 4,
 "nbformat_minor": 2
}
