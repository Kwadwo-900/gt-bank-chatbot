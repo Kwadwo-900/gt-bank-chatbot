{
 "cells": [
  {
   "cell_type": "code",
   "execution_count": 15,
   "metadata": {},
   "outputs": [],
   "source": [
    "from langchain.embeddings.cohere import CohereEmbeddings\n",
    "from langchain.llms import Cohere\n",
    "from langchain.prompts import PromptTemplate\n",
    "from langchain.text_splitter import RecursiveCharacterTextSplitter\n",
    "from langchain.chains.question_answering import load_qa_chain\n",
    "from langchain.chains import RetrievalQA\n",
    "from langchain.vectorstores import Qdrant\n",
    "from langchain.document_loaders import TextLoader\n",
    "import textwrap as tr\n",
    "import random\n",
    "import os\n",
    "\n",
    "\n"
   ]
  },
  {
   "cell_type": "code",
   "execution_count": 16,
   "metadata": {},
   "outputs": [],
   "source": [
    "# load the text or document\n",
    "loader = TextLoader(\"./steve-jobs-commencement.txt\", encoding='utf8')\n",
    "documents = loader.load()\n",
    "text_splitter = RecursiveCharacterTextSplitter(chunk_size=500, chunk_overlap=0)\n",
    "texts = text_splitter.split_documents(documents)"
   ]
  },
  {
   "cell_type": "code",
   "execution_count": 17,
   "metadata": {},
   "outputs": [],
   "source": [
    "# we do our embedding here and create our vecstore\n",
    "embeddings = CohereEmbeddings(model = \"multilingual-22-12\")\n",
    "db = Qdrant.from_documents(texts, embeddings, location=\":memory:\", collection_name=\"my_documents\", distance_func=\"Dot\")"
   ]
  },
  {
   "cell_type": "code",
   "execution_count": 18,
   "metadata": {},
   "outputs": [],
   "source": [
    "questions = [\n",
    "           \"What did the author liken The Whole Earth Catalog to?\",\n",
    "           \"What was Reed College great at?\",\n",
    "           \"What was the author diagnosed with?\",\n",
    "           \"What is the key lesson from this article?\",\n",
    "           \"What did the article say about Michael Jackson?\",\n",
    "           ]"
   ]
  },
  {
   "cell_type": "code",
   "execution_count": 19,
   "metadata": {},
   "outputs": [],
   "source": [
    "prompt_template = \"\"\"Text: {context}\n",
    "\n",
    "Question: {question}\n",
    "\n",
    "Answer the question based on the text provided. If the text doesn't contain the answer, reply that the answer is not available.\"\"\"\n",
    "\n",
    "\n",
    "PROMPT = PromptTemplate(\n",
    "    template=prompt_template, input_variables=[\"context\", \"question\"]\n",
    ")\n",
    "\n",
    "chain_type_kwargs = {\"prompt\": PROMPT}"
   ]
  },
  {
   "cell_type": "code",
   "execution_count": 20,
   "metadata": {},
   "outputs": [],
   "source": [
    "# question and answer here \n",
    "qa = RetrievalQA.from_chain_type(llm=Cohere(model=\"command-nightly\", temperature=0), \n",
    "                                 chain_type=\"stuff\", \n",
    "                                 retriever=db.as_retriever(), \n",
    "                                 chain_type_kwargs=chain_type_kwargs, \n",
    "                                 return_source_documents=True)\n",
    "                                 \n",
    "for question in questions:\n",
    "  answer = qa({\"query\": question})\n",
    "  "
   ]
  },
  {
   "cell_type": "code",
   "execution_count": 21,
   "metadata": {},
   "outputs": [
    {
     "data": {
      "text/plain": [
       "{'query': 'What did the article say about Michael Jackson?',\n",
       " 'result': ' The text does not provide information about Michael Jackson.',\n",
       " 'source_documents': [Document(page_content='baby boy; do you want him?” They said: “Of course.” My biological mother later found out that my mother had never graduated from college and that my father had never graduated from high school. She refused to sign the final adoption papers. She only relented a few months later when my parents promised that I would someday go to college.', metadata={'source': './steve-jobs-commencement.txt'}),\n",
       "  Document(page_content='beautiful, historical, artistically subtle in a way that science can’t capture, and I found it fascinating.', metadata={'source': './steve-jobs-commencement.txt'}),\n",
       "  Document(page_content='I really didn’t know what to do for a few months. I felt that I had let the previous generation of entrepreneurs down — that I had dropped the baton as it was being passed to me. I met with David Packard and Bob Noyce and tried to apologize for screwing up so badly. I was a very public failure, and I even thought about running away from the valley. But something slowly began to dawn on me — I still loved what I did. The turn of events at Apple had not changed that one bit. I had been rejected,', metadata={'source': './steve-jobs-commencement.txt'}),\n",
       "  Document(page_content='This was the closest I’ve been to facing death, and I hope it’s the closest I get for a few more decades. Having lived through it, I can now say this to you with a bit more certainty than when death was a useful but purely intellectual concept:', metadata={'source': './steve-jobs-commencement.txt'})]}"
      ]
     },
     "execution_count": 21,
     "metadata": {},
     "output_type": "execute_result"
    }
   ],
   "source": [
    "answer"
   ]
  }
 ],
 "metadata": {
  "kernelspec": {
   "display_name": "env",
   "language": "python",
   "name": "python3"
  },
  "language_info": {
   "codemirror_mode": {
    "name": "ipython",
    "version": 3
   },
   "file_extension": ".py",
   "mimetype": "text/x-python",
   "name": "python",
   "nbconvert_exporter": "python",
   "pygments_lexer": "ipython3",
   "version": "3.10.5"
  },
  "orig_nbformat": 4
 },
 "nbformat": 4,
 "nbformat_minor": 2
}
