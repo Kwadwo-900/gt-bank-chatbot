{
 "cells": [
  {
   "cell_type": "code",
   "execution_count": 1,
   "metadata": {},
   "outputs": [],
   "source": [
    "from langchain.embeddings.cohere import CohereEmbeddings\n",
    "from langchain.llms import Cohere\n",
    "from langchain.prompts import PromptTemplate\n",
    "from langchain.text_splitter import RecursiveCharacterTextSplitter\n",
    "from langchain.chains.question_answering import load_qa_chain\n",
    "from langchain.chains import RetrievalQA\n",
    "from langchain.vectorstores import Qdrant\n",
    "from langchain.document_loaders import TextLoader\n",
    "import textwrap as tr\n",
    "import random\n",
    "import os\n",
    "\n",
    "\n",
    "os.environ[\"COHERE_API_KEY\"] = \"hv5YTaV6oUo5T9LGOY8F4bBtalGflhTU2FdPtEk3\""
   ]
  },
  {
   "cell_type": "code",
   "execution_count": 4,
   "metadata": {},
   "outputs": [],
   "source": [
    "# load the text or document\n",
    "loader = TextLoader(\"./steve-jobs-commencement.txt\", encoding='utf8')\n",
    "documents = loader.load()\n",
    "text_splitter = RecursiveCharacterTextSplitter(chunk_size=500, chunk_overlap=0)\n",
    "texts = text_splitter.split_documents(documents)"
   ]
  },
  {
   "cell_type": "code",
   "execution_count": 5,
   "metadata": {},
   "outputs": [],
   "source": [
    "# we do our embedding here and create our vecstore\n",
    "embeddings = CohereEmbeddings(model = \"multilingual-22-12\")\n",
    "db = Qdrant.from_documents(texts, embeddings, location=\":memory:\", collection_name=\"my_documents\", distance_func=\"Dot\")"
   ]
  },
  {
   "cell_type": "code",
   "execution_count": 8,
   "metadata": {},
   "outputs": [],
   "source": [
    "questions = [\n",
    "           \"What did the author liken The Whole Earth Catalog to?\",\n",
    "           \"What was Reed College great at?\",\n",
    "           \"What was the author diagnosed with?\",\n",
    "           \"What is the key lesson from this article?\",\n",
    "           \"What did the article say about Michael Jackson?\",\n",
    "           ]"
   ]
  },
  {
   "cell_type": "code",
   "execution_count": 6,
   "metadata": {},
   "outputs": [],
   "source": [
    "prompt_template = \"\"\"Text: {context}\n",
    "\n",
    "Question: {question}\n",
    "\n",
    "Answer the question based on the text provided. If the text doesn't contain the answer, reply that the answer is not available.\"\"\"\n",
    "\n",
    "\n",
    "PROMPT = PromptTemplate(\n",
    "    template=prompt_template, input_variables=[\"context\", \"question\"]\n",
    ")\n",
    "\n",
    "chain_type_kwargs = {\"prompt\": PROMPT}"
   ]
  },
  {
   "cell_type": "code",
   "execution_count": 12,
   "metadata": {},
   "outputs": [
    {
     "name": "stdout",
     "output_type": "stream",
     "text": [
      "#########################################################\n",
      "{'query': 'What did the author liken The Whole Earth Catalog to?', 'result': ' The Whole Earth Catalog was like Google in paperback form, 35 years before Google came along.', 'source_documents': [Document(page_content='When I was young, there was an amazing publication called The Whole Earth Catalog, which was one of the bibles of my generation. It was created by a fellow named Stewart Brand not far from here in Menlo Park, and he brought it to life with his poetic touch. This was in the late 1960s, before personal computers and desktop publishing, so it was all made with typewriters, scissors and Polaroid cameras. It was sort of like Google in paperback form, 35 years before Google came along: It was', metadata={'source': './steve-jobs-commencement.txt'}), Document(page_content='Stewart and his team put out several issues of The Whole Earth Catalog, and then when it had run its course, they put out a final issue. It was the mid-1970s, and I was your age. On the back cover of their final issue was a photograph of an early morning country road, the kind you might find yourself hitchhiking on if you were so adventurous. Beneath it were the words: “Stay Hungry. Stay Foolish.” It was their farewell message as they signed off. Stay Hungry. Stay Foolish. And I have always', metadata={'source': './steve-jobs-commencement.txt'}), Document(page_content='idealistic, and overflowing with neat tools and great notions.', metadata={'source': './steve-jobs-commencement.txt'}), Document(page_content='beautiful, historical, artistically subtle in a way that science can’t capture, and I found it fascinating.', metadata={'source': './steve-jobs-commencement.txt'})]}\n",
      "#########################################################\n",
      "#########################################################\n",
      "{'query': 'What was Reed College great at?', 'result': ' Reed College was great at calligraphy instruction.', 'source_documents': [Document(page_content='Reed College at that time offered perhaps the best calligraphy instruction in the country. Throughout the campus every poster, every label on every drawer, was beautifully hand calligraphed. Because I had dropped out and didn’t have to take the normal classes, I decided to take a calligraphy class to learn how to do this. I learned about serif and sans serif typefaces, about varying the amount of space between different letter combinations, about what makes great typography great. It was', metadata={'source': './steve-jobs-commencement.txt'}), Document(page_content='I dropped out of Reed College after the first 6 months, but then stayed around as a drop-in for another 18 months or so before I really quit. So why did I drop out?', metadata={'source': './steve-jobs-commencement.txt'}), Document(page_content='never dropped out, I would have never dropped in on this calligraphy class, and personal computers might not have the wonderful typography that they do. Of course it was impossible to connect the dots looking forward when I was in college. But it was very, very clear looking backward 10 years later.', metadata={'source': './steve-jobs-commencement.txt'}), Document(page_content='OK. It was pretty scary at the time, but looking back it was one of the best decisions I ever made. The minute I dropped out I could stop taking the required classes that didn’t interest me, and begin dropping in on the ones that looked interesting.', metadata={'source': './steve-jobs-commencement.txt'})]}\n",
      "#########################################################\n",
      "#########################################################\n",
      "{'query': 'What was the author diagnosed with?', 'result': ' The author was diagnosed with pancreatic cancer.', 'source_documents': [Document(page_content='I lived with that diagnosis all day. Later that evening I had a biopsy, where they stuck an endoscope down my throat, through my stomach and into my intestines, put a needle into my pancreas and got a few cells from the tumor. I was sedated, but my wife, who was there, told me that when they viewed the cells under a microscope the doctors started crying because it turned out to be a very rare form of pancreatic cancer that is curable with surgery. I had the surgery and I’m fine now.', metadata={'source': './steve-jobs-commencement.txt'}), Document(page_content='About a year ago I was diagnosed with cancer. I had a scan at 7:30 in the morning, and it clearly showed a tumor on my pancreas. I didn’t even know what a pancreas was. The doctors told me this was almost certainly a type of cancer that is incurable, and that I should expect to live no longer than three to six months. My doctor advised me to go home and get my affairs in order, which is doctor’s code for prepare to die. It means to try to tell your kids everything you thought you’d have the', metadata={'source': './steve-jobs-commencement.txt'}), Document(page_content='Stewart and his team put out several issues of The Whole Earth Catalog, and then when it had run its course, they put out a final issue. It was the mid-1970s, and I was your age. On the back cover of their final issue was a photograph of an early morning country road, the kind you might find yourself hitchhiking on if you were so adventurous. Beneath it were the words: “Stay Hungry. Stay Foolish.” It was their farewell message as they signed off. Stay Hungry. Stay Foolish. And I have always', metadata={'source': './steve-jobs-commencement.txt'}), Document(page_content='beautiful, historical, artistically subtle in a way that science can’t capture, and I found it fascinating.', metadata={'source': './steve-jobs-commencement.txt'})]}\n",
      "#########################################################\n",
      "#########################################################\n",
      "{'query': 'What is the key lesson from this article?', 'result': ' The key lesson from this article is that you should follow your heart and intuition, and have the courage to do so.', 'source_documents': [Document(page_content='Again, you can’t connect the dots looking forward; you can only connect them looking backward. So you have to trust that the dots will somehow connect in your future. You have to trust in something — your gut, destiny, life, karma, whatever. This approach has never let me down, and it has made all the difference in my life.\\n\\nMy second story is about love and loss.', metadata={'source': './steve-jobs-commencement.txt'}), Document(page_content='Remembering that I’ll be dead soon is the most important tool I’ve ever encountered to help me make the big choices in life. Because almost everything — all external expectations, all pride, all fear of embarrassment or failure — these things just fall away in the face of death, leaving only what is truly important. Remembering that you are going to die is the best way I know to avoid the trap of thinking you have something to lose. You are already naked. There is no reason not to follow your', metadata={'source': './steve-jobs-commencement.txt'}), Document(page_content='Your time is limited, so don’t waste it living someone else’s life. Don’t be trapped by dogma — which is living with the results of other people’s thinking. Don’t let the noise of others’ opinions drown out your own inner voice. And most important, have the courage to follow your heart and intuition. They somehow already know what you truly want to become. Everything else is secondary.', metadata={'source': './steve-jobs-commencement.txt'}), Document(page_content='I really didn’t know what to do for a few months. I felt that I had let the previous generation of entrepreneurs down — that I had dropped the baton as it was being passed to me. I met with David Packard and Bob Noyce and tried to apologize for screwing up so badly. I was a very public failure, and I even thought about running away from the valley. But something slowly began to dawn on me — I still loved what I did. The turn of events at Apple had not changed that one bit. I had been rejected,', metadata={'source': './steve-jobs-commencement.txt'})]}\n",
      "#########################################################\n",
      "#########################################################\n",
      "{'query': 'What did the article say about Michael Jackson?', 'result': ' The text does not provide information about Michael Jackson.', 'source_documents': [Document(page_content='baby boy; do you want him?” They said: “Of course.” My biological mother later found out that my mother had never graduated from college and that my father had never graduated from high school. She refused to sign the final adoption papers. She only relented a few months later when my parents promised that I would someday go to college.', metadata={'source': './steve-jobs-commencement.txt'}), Document(page_content='beautiful, historical, artistically subtle in a way that science can’t capture, and I found it fascinating.', metadata={'source': './steve-jobs-commencement.txt'}), Document(page_content='I really didn’t know what to do for a few months. I felt that I had let the previous generation of entrepreneurs down — that I had dropped the baton as it was being passed to me. I met with David Packard and Bob Noyce and tried to apologize for screwing up so badly. I was a very public failure, and I even thought about running away from the valley. But something slowly began to dawn on me — I still loved what I did. The turn of events at Apple had not changed that one bit. I had been rejected,', metadata={'source': './steve-jobs-commencement.txt'}), Document(page_content='This was the closest I’ve been to facing death, and I hope it’s the closest I get for a few more decades. Having lived through it, I can now say this to you with a bit more certainty than when death was a useful but purely intellectual concept:', metadata={'source': './steve-jobs-commencement.txt'})]}\n",
      "#########################################################\n"
     ]
    }
   ],
   "source": [
    "# question and answer here \n",
    "qa = RetrievalQA.from_chain_type(llm=Cohere(model=\"command-nightly\", temperature=0), \n",
    "                                 chain_type=\"stuff\", \n",
    "                                 retriever=db.as_retriever(), \n",
    "                                 chain_type_kwargs=chain_type_kwargs, \n",
    "                                 return_source_documents=True)\n",
    "                                 \n",
    "for question in questions:\n",
    "  answer = qa({\"query\": question})\n",
    "  print(\"#########################################################\")\n",
    "  print(answer)\n",
    "  print(\"#########################################################\")"
   ]
  },
  {
   "cell_type": "markdown",
   "metadata": {},
   "source": []
  },
  {
   "cell_type": "code",
   "execution_count": 11,
   "metadata": {},
   "outputs": [
    {
     "data": {
      "text/plain": [
       "{'query': 'What did the article say about Michael Jackson?',\n",
       " 'result': ' The text does not provide information about Michael Jackson.',\n",
       " 'source_documents': [Document(page_content='baby boy; do you want him?” They said: “Of course.” My biological mother later found out that my mother had never graduated from college and that my father had never graduated from high school. She refused to sign the final adoption papers. She only relented a few months later when my parents promised that I would someday go to college.', metadata={'source': './steve-jobs-commencement.txt'}),\n",
       "  Document(page_content='beautiful, historical, artistically subtle in a way that science can’t capture, and I found it fascinating.', metadata={'source': './steve-jobs-commencement.txt'}),\n",
       "  Document(page_content='I really didn’t know what to do for a few months. I felt that I had let the previous generation of entrepreneurs down — that I had dropped the baton as it was being passed to me. I met with David Packard and Bob Noyce and tried to apologize for screwing up so badly. I was a very public failure, and I even thought about running away from the valley. But something slowly began to dawn on me — I still loved what I did. The turn of events at Apple had not changed that one bit. I had been rejected,', metadata={'source': './steve-jobs-commencement.txt'}),\n",
       "  Document(page_content='This was the closest I’ve been to facing death, and I hope it’s the closest I get for a few more decades. Having lived through it, I can now say this to you with a bit more certainty than when death was a useful but purely intellectual concept:', metadata={'source': './steve-jobs-commencement.txt'})]}"
      ]
     },
     "execution_count": 11,
     "metadata": {},
     "output_type": "execute_result"
    }
   ],
   "source": [
    "answer"
   ]
  }
 ],
 "metadata": {
  "kernelspec": {
   "display_name": "env",
   "language": "python",
   "name": "python3"
  },
  "language_info": {
   "codemirror_mode": {
    "name": "ipython",
    "version": 3
   },
   "file_extension": ".py",
   "mimetype": "text/x-python",
   "name": "python",
   "nbconvert_exporter": "python",
   "pygments_lexer": "ipython3",
   "version": "3.10.5"
  },
  "orig_nbformat": 4
 },
 "nbformat": 4,
 "nbformat_minor": 2
}
